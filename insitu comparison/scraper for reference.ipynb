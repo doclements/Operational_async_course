{
 "cells": [
  {
   "cell_type": "code",
   "execution_count": null,
   "metadata": {},
   "outputs": [],
   "source": [
    "#!/usr/local/bin/python3\n",
    "# coding: utf-8\n",
    "\n",
    "# In[1]:\n",
    "\n",
    "\n",
    "#script to extract the channel lightship wave data to a local csv\n",
    "import requests\n",
    "import pandas as pd\n",
    "import os\n",
    "from bs4 import BeautifulSoup\n",
    "import datetime\n",
    "\n",
    "# In[4]:\n",
    "\n",
    "# parse out the data from the wave channel ship buoy\n",
    "url=\"https://www.ndbc.noaa.gov/mobile/station.php?station=62103\"\n",
    "page=requests.get(url)\n",
    "# get the page html data\n",
    "raw_data=BeautifulSoup(page.content, 'html.parser')\n",
    "# makes the html easier to read\n",
    "results=raw_data.prettify()\n",
    "#parse out the bits on info we want from the page (height and time)\n",
    "ps=raw_data.find_all('p')[1]\n",
    "wh=ps.contents[8]\n",
    "time=ps.contents[0]\n",
    "\n",
    "\n",
    "# In[5]:\n",
    "\n",
    "\n",
    "#append the wave height to a csv document.\n",
    "with open('/users/benhowey2/Documents/wavebuoydata.csv','a') as fd:\n",
    "    fd.write(time + \",\" + str(wh) + \"\\n\")\n",
    "    \n",
    "fd.close()\n",
    "\n",
    "print(\"Completed at %s\" % datetime.datetime.now().strftime('%Y-%m-%d %H:%M'))"
   ]
  }
 ],
 "metadata": {
  "kernelspec": {
   "display_name": "Python 3",
   "language": "python",
   "name": "python3"
  },
  "language_info": {
   "codemirror_mode": {
    "name": "ipython",
    "version": 3
   },
   "file_extension": ".py",
   "mimetype": "text/x-python",
   "name": "python",
   "nbconvert_exporter": "python",
   "pygments_lexer": "ipython3",
   "version": "3.8.5"
  }
 },
 "nbformat": 4,
 "nbformat_minor": 4
}
